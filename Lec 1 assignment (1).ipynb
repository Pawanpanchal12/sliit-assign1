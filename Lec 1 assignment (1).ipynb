{
 "cells": [
  {
   "cell_type": "markdown",
   "id": "4014c583",
   "metadata": {},
   "source": [
    "\n",
    "\n",
    "# Write a programme to print name and school name."
   ]
  },
  {
   "cell_type": "code",
   "execution_count": 1,
   "id": "30f08bc7",
   "metadata": {},
   "outputs": [
    {
     "name": "stdout",
     "output_type": "stream",
     "text": [
      "My Name is Pawan Panchal\n"
     ]
    }
   ],
   "source": [
    "print(\"My Name is Pawan Panchal\")\n"
   ]
  },
  {
   "cell_type": "code",
   "execution_count": 2,
   "id": "151c1ef2",
   "metadata": {},
   "outputs": [
    {
     "name": "stdout",
     "output_type": "stream",
     "text": [
      "I have studied from MBM Enginering College\n"
     ]
    }
   ],
   "source": [
    "print(\"I have studied from MBM Enginering College\")"
   ]
  },
  {
   "cell_type": "markdown",
   "id": "e9f54c1b",
   "metadata": {},
   "source": [
    "# Lec 2.2 Activity"
   ]
  },
  {
   "cell_type": "code",
   "execution_count": 3,
   "id": "b8495580",
   "metadata": {},
   "outputs": [
    {
     "name": "stdout",
     "output_type": "stream",
     "text": [
      "Hello World\n"
     ]
    }
   ],
   "source": [
    "#Hello world\n",
    "print (\"Hello World\")"
   ]
  },
  {
   "cell_type": "markdown",
   "id": "777556c6",
   "metadata": {},
   "source": [
    "#Data types\n",
    "\n",
    "\n"
   ]
  },
  {
   "cell_type": "code",
   "execution_count": 5,
   "id": "1da68922",
   "metadata": {},
   "outputs": [
    {
     "name": "stdout",
     "output_type": "stream",
     "text": [
      "46\n"
     ]
    },
    {
     "data": {
      "text/plain": [
       "int"
      ]
     },
     "execution_count": 5,
     "metadata": {},
     "output_type": "execute_result"
    }
   ],
   "source": [
    "x=46               #Integer datatype\n",
    "print(x)           #print the value of x\n",
    "type(x)            #Now check the datatype of variable"
   ]
  },
  {
   "cell_type": "code",
   "execution_count": 6,
   "id": "fbd261a9",
   "metadata": {},
   "outputs": [
    {
     "name": "stdout",
     "output_type": "stream",
     "text": [
      "3.6\n"
     ]
    },
    {
     "data": {
      "text/plain": [
       "float"
      ]
     },
     "execution_count": 6,
     "metadata": {},
     "output_type": "execute_result"
    }
   ],
   "source": [
    "y=3.6             #Floating datatype\n",
    "print(y)      \n",
    "type(y)"
   ]
  },
  {
   "cell_type": "code",
   "execution_count": 8,
   "id": "0c667492",
   "metadata": {},
   "outputs": [
    {
     "name": "stdout",
     "output_type": "stream",
     "text": [
      "Pawan\n"
     ]
    },
    {
     "data": {
      "text/plain": [
       "str"
      ]
     },
     "execution_count": 8,
     "metadata": {},
     "output_type": "execute_result"
    }
   ],
   "source": [
    "z=\"Pawan\"        #String datatype\n",
    "print(z)\n",
    "type(z)\n"
   ]
  },
  {
   "cell_type": "code",
   "execution_count": 12,
   "id": "620c0e41",
   "metadata": {},
   "outputs": [
    {
     "name": "stdout",
     "output_type": "stream",
     "text": [
      "True False\n"
     ]
    },
    {
     "data": {
      "text/plain": [
       "(bool, bool)"
      ]
     },
     "execution_count": 12,
     "metadata": {},
     "output_type": "execute_result"
    }
   ],
   "source": [
    "a=True   #Boolean datatype\n",
    "b=False\n",
    "print(a,b)\n",
    "type(a),type(b)"
   ]
  },
  {
   "cell_type": "markdown",
   "id": "857bd7aa",
   "metadata": {},
   "source": [
    "Operators"
   ]
  },
  {
   "cell_type": "code",
   "execution_count": 15,
   "id": "c5143618",
   "metadata": {},
   "outputs": [
    {
     "name": "stdout",
     "output_type": "stream",
     "text": [
      "9 1 20 1.25 1 1 625\n"
     ]
    }
   ],
   "source": [
    "x=5\n",
    "y=4\n",
    "\n",
    "a=x+y\n",
    "b=x-y\n",
    "c=x*y\n",
    "d=x/y\n",
    "e=x//y\n",
    "f=x%y\n",
    "g=x**y\n",
    "\n",
    "print(a,b,c,d,e,f,g)"
   ]
  },
  {
   "cell_type": "markdown",
   "id": "99e9e999",
   "metadata": {},
   "source": [
    "Variables"
   ]
  },
  {
   "cell_type": "code",
   "execution_count": 18,
   "id": "fd046cfc",
   "metadata": {},
   "outputs": [
    {
     "name": "stdout",
     "output_type": "stream",
     "text": [
      "5 7\n"
     ]
    }
   ],
   "source": [
    "x=5\n",
    "y=7\n",
    "print(x,y)"
   ]
  },
  {
   "cell_type": "markdown",
   "id": "4295b093",
   "metadata": {},
   "source": [
    "Variable Name"
   ]
  },
  {
   "cell_type": "code",
   "execution_count": 19,
   "id": "abeb61f4",
   "metadata": {},
   "outputs": [
    {
     "name": "stdout",
     "output_type": "stream",
     "text": [
      "27\n",
      "56\n",
      "34\n"
     ]
    },
    {
     "ename": "NameError",
     "evalue": "name 'AGe' is not defined",
     "output_type": "error",
     "traceback": [
      "\u001b[0;31m---------------------------------------------------------------------------\u001b[0m",
      "\u001b[0;31mNameError\u001b[0m                                 Traceback (most recent call last)",
      "Cell \u001b[0;32mIn[19], line 7\u001b[0m\n\u001b[1;32m      5\u001b[0m \u001b[38;5;28mprint\u001b[39m(Age)\n\u001b[1;32m      6\u001b[0m \u001b[38;5;28mprint\u001b[39m(AGE)\n\u001b[0;32m----> 7\u001b[0m \u001b[38;5;28mprint\u001b[39m(AGe)\n",
      "\u001b[0;31mNameError\u001b[0m: name 'AGe' is not defined"
     ]
    }
   ],
   "source": [
    "age = 27\n",
    "Age = 56\n",
    "AGE = 34\n",
    "print(age)\n",
    "print(Age)\n",
    "print(AGE)\n",
    "print(AGe)\n",
    "\n"
   ]
  },
  {
   "cell_type": "markdown",
   "id": "831f089b",
   "metadata": {},
   "source": [
    "Calculate Min and Max value"
   ]
  },
  {
   "cell_type": "code",
   "execution_count": 21,
   "id": "88758653",
   "metadata": {},
   "outputs": [
    {
     "name": "stdout",
     "output_type": "stream",
     "text": [
      "Enter value 1 4\n",
      "Enter value 2 4\n",
      "Enter value 3 6\n",
      "Minimum value is  4\n",
      "Maximum value is  6\n"
     ]
    }
   ],
   "source": [
    "a = int(input(\"Enter value 1 \"))\n",
    "b = int(input(\"Enter value 2 \"))\n",
    "c = int(input(\"Enter value 3 \"))\n",
    "\n",
    "minimum = min(a,b,c)\n",
    "maximum = max(a,b,c)\n",
    "\n",
    "print (\"Minimum value is \", minimum)\n",
    "print (\"Maximum value is \", maximum)\n"
   ]
  },
  {
   "cell_type": "markdown",
   "id": "bc36dbae",
   "metadata": {},
   "source": [
    "Sequence"
   ]
  },
  {
   "cell_type": "code",
   "execution_count": 31,
   "id": "a536d501",
   "metadata": {},
   "outputs": [
    {
     "name": "stdout",
     "output_type": "stream",
     "text": [
      "Enter Number1 5\n",
      "Enter Number2 7\n",
      "Sum 12\n"
     ]
    }
   ],
   "source": [
    "N1 = int(input(\"Enter Number1 \"))\n",
    "N2 = int(input(\"Enter Number2 \"))\n",
    "\n",
    "add= N1 + N2\n",
    "\n",
    "print (\"Sum\",add)"
   ]
  },
  {
   "cell_type": "markdown",
   "id": "cb9f28a6",
   "metadata": {},
   "source": [
    "Area"
   ]
  },
  {
   "cell_type": "code",
   "execution_count": 1,
   "id": "1d6e13f7",
   "metadata": {},
   "outputs": [
    {
     "name": "stdout",
     "output_type": "stream",
     "text": [
      "Enter Length 7\n",
      "Enter Width 8\n",
      "Area is  56\n",
      "Perimeter is  30\n"
     ]
    }
   ],
   "source": [
    "length = int(input(\"Enter Length \"))\n",
    "width = int(input(\"Enter Width \"))\n",
    "\n",
    "area = length * width\n",
    "perimeter = (2*length) + (2*width)\n",
    "\n",
    "print (\"Area is \", area)\n",
    "print (\"Perimeter is \", perimeter)\n"
   ]
  },
  {
   "cell_type": "code",
   "execution_count": 5,
   "id": "646ba08f",
   "metadata": {},
   "outputs": [
    {
     "name": "stdout",
     "output_type": "stream",
     "text": [
      "Enter Length 6\n",
      "Enter Width 6\n",
      "Figure is a square\n"
     ]
    }
   ],
   "source": [
    "length = int(input(\"Enter Length \"))\n",
    "width = int(input(\"Enter Width \"))\n",
    "\n",
    "if length == width:\n",
    "    print (\"Figure is a square\")"
   ]
  },
  {
   "cell_type": "code",
   "execution_count": 7,
   "id": "aacc5e4e",
   "metadata": {},
   "outputs": [
    {
     "name": "stdout",
     "output_type": "stream",
     "text": [
      "Enter Length 8\n",
      "Enter Width 5\n",
      "Figure is a rectangle\n"
     ]
    }
   ],
   "source": [
    "length = int(input(\"Enter Length \"))\n",
    "width = int(input(\"Enter Width \"))\n",
    "\n",
    "if length == width:\n",
    "    print (\"Figure is a square\")\n",
    "else:\n",
    "    print (\"Figure is a rectangle\")\n"
   ]
  },
  {
   "cell_type": "code",
   "execution_count": 11,
   "id": "5c6e87d3",
   "metadata": {},
   "outputs": [
    {
     "name": "stdout",
     "output_type": "stream",
     "text": [
      "Enter year of birth 2012\n",
      "You are a child..\n"
     ]
    }
   ],
   "source": [
    "DOB = int(input(\"Enter year of birth \"))\n",
    "\n",
    "age = 2022 - DOB\n",
    "\n",
    "if age >= 18:\n",
    "    print (\"You are an adult..\")\n",
    "else:\n",
    "    print (\"You are a child..\")\n"
   ]
  },
  {
   "cell_type": "code",
   "execution_count": 13,
   "id": "33e2df71",
   "metadata": {},
   "outputs": [
    {
     "name": "stdout",
     "output_type": "stream",
     "text": [
      "1\n",
      "2\n",
      "3\n",
      "4\n",
      "5\n",
      "6\n",
      "7\n",
      "8\n",
      "9\n",
      "10\n"
     ]
    }
   ],
   "source": [
    "number = 1\n",
    "\n",
    "while number <= 10:\n",
    "\tprint (number)\n",
    "\tnumber = number + 1"
   ]
  },
  {
   "cell_type": "code",
   "execution_count": 1,
   "id": "b730822b",
   "metadata": {},
   "outputs": [
    {
     "name": "stdout",
     "output_type": "stream",
     "text": [
      "Enter number 3\n",
      "Enter number 5\n",
      "Enter number 7\n",
      "Sum is  15\n"
     ]
    }
   ],
   "source": [
    "iteration = 1\n",
    "total = 0\n",
    "\n",
    "while iteration <= 3:\n",
    "\tnumber = int(input(\"Enter number \" ))\n",
    "\ttotal = total + number\n",
    "\titeration = iteration + 1\n",
    "\n",
    "    \n",
    "print (\"Sum is \", total)"
   ]
  },
  {
   "cell_type": "markdown",
   "id": "ed5a16b4",
   "metadata": {},
   "source": [
    "# Create a python program to input marks of 10 students and print the maximum mark, minimum mark and average mark of the students. \n",
    "\n"
   ]
  },
  {
   "cell_type": "code",
   "execution_count": 5,
   "id": "0f4b4ade",
   "metadata": {},
   "outputs": [
    {
     "name": "stdout",
     "output_type": "stream",
     "text": [
      "Please enter English Marks: 45\n",
      "Please enter Math score: 67\n",
      "Please enter Computer Marks: 89\n",
      "Please enter Physics Marks: 90\n",
      "Please enter Chemistry Marks: 67\n",
      "\n",
      "Total Marks = 358.00\n",
      "Average Marks = 71.60\n",
      "Marks Percentage = 71.60\n",
      "Minimum marks in  45.0\n",
      "Minimum marks in  90.0\n"
     ]
    }
   ],
   "source": [
    "english = float(input(\"Please enter English Marks: \"))\n",
    "math = float(input(\"Please enter Math score: \"))\n",
    "computers = float(input(\"Please enter Computer Marks: \"))\n",
    "physics = float(input(\"Please enter Physics Marks: \"))\n",
    "chemistry = float(input(\"Please enter Chemistry Marks: \"))\n",
    " \n",
    "total = english + math + computers + physics + chemistry\n",
    "average = total / 5\n",
    "percentage = (total / 500) * 100\n",
    "minimum = min(english,math,computers,physics,chemistry)\n",
    "maximum = max(english,math,computers,physics,chemistry)\n",
    "print(\"\\nTotal Marks = %.2f\"  %total)\n",
    "print(\"Average Marks = %.2f\"  %average)\n",
    "print(\"Marks Percentage = %.2f\"  %percentage)\n",
    "print(\"Minimum marks in \",minimum)\n",
    "print(\"Minimum marks in \",maximum)"
   ]
  },
  {
   "cell_type": "markdown",
   "id": "15a26c9e",
   "metadata": {},
   "source": [
    "# Create a program to input five marks of a student and display the grades. "
   ]
  },
  {
   "cell_type": "code",
   "execution_count": 3,
   "id": "94541c0f",
   "metadata": {},
   "outputs": [
    {
     "name": "stdout",
     "output_type": "stream",
     "text": [
      "Enter Marks Obtained in 5 Subjects: \n",
      "45\n",
      "67\n",
      "90\n",
      "89\n",
      "78\n",
      "Your Grade is B1\n"
     ]
    }
   ],
   "source": [
    "print(\"Enter Marks Obtained in 5 Subjects: \")\n",
    "markOne = int(input())\n",
    "markTwo = int(input())\n",
    "markThree = int(input())\n",
    "markFour = int(input())\n",
    "markFive = int(input())\n",
    "\n",
    "tot = markOne+markTwo+markThree+markFour+markFive\n",
    "avg = tot/5\n",
    "\n",
    "if avg>=91 and avg<=100:\n",
    "    print(\"Your Grade is A1\")\n",
    "elif avg>=81 and avg<91:\n",
    "    print(\"Your Grade is A2\")\n",
    "elif avg>=71 and avg<81:\n",
    "    print(\"Your Grade is B1\")\n",
    "elif avg>=61 and avg<71:\n",
    "    print(\"Your Grade is B2\")\n",
    "elif avg>=51 and avg<61:\n",
    "    print(\"Your Grade is C1\")\n",
    "elif avg>=41 and avg<51:\n",
    "    print(\"Your Grade is C2\")\n",
    "elif avg>=33 and avg<41:\n",
    "    print(\"Your Grade is D\")\n",
    "elif avg>=21 and avg<33:\n",
    "    print(\"Your Grade is E1\")\n",
    "elif avg>=0 and avg<21:\n",
    "    print(\"Your Grade is E2\")\n",
    "else:\n",
    "    print(\"Invalid Input!\")"
   ]
  },
  {
   "cell_type": "code",
   "execution_count": null,
   "id": "7a04d2a2",
   "metadata": {},
   "outputs": [],
   "source": []
  }
 ],
 "metadata": {
  "kernelspec": {
   "display_name": "Python 3 (ipykernel)",
   "language": "python",
   "name": "python3"
  },
  "language_info": {
   "codemirror_mode": {
    "name": "ipython",
    "version": 3
   },
   "file_extension": ".py",
   "mimetype": "text/x-python",
   "name": "python",
   "nbconvert_exporter": "python",
   "pygments_lexer": "ipython3",
   "version": "3.11.4"
  }
 },
 "nbformat": 4,
 "nbformat_minor": 5
}
